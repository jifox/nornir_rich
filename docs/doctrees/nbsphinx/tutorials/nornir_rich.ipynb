{
 "cells": [
  {
   "cell_type": "markdown",
   "metadata": {},
   "source": [
    "# nornir_rich\n",
    "nornir_rich plugin is a combination of a processor to get additional detail for results and related functions.  By default all results are output to stdout without requiring and print_result statements.\n",
    "\n",
    "The processor constructor has some options related to keeping track of timing, screen width and whether or not to utilize progress bars.  The example below uses all defaults."
   ]
  },
  {
   "cell_type": "code",
   "execution_count": 1,
   "metadata": {},
   "outputs": [],
   "source": [
    "from nornir import InitNornir\n",
    "from nornir_napalm.plugins.tasks import napalm_get, napalm_cli\n",
    "\n",
    "nr = InitNornir(\n",
    "    inventory={\n",
    "        \"plugin\": \"SimpleInventory\",\n",
    "        \"options\": {\n",
    "            \"host_file\": \"inventory/hosts.yaml\",\n",
    "            \"group_file\": \"inventory/groups.yaml\",\n",
    "            \"defaults_file\": \"inventory/defaults.yaml\",\n",
    "        }\n",
    "    },\n",
    "    dry_run=True,\n",
    ")"
   ]
  },
  {
   "cell_type": "code",
   "execution_count": 2,
   "metadata": {},
   "outputs": [],
   "source": [
    "from nornir_rich.plugins.processors import RichResults\n",
    "rr = RichResults(width=67)\n",
    "nr.processors.append(rr)"
   ]
  },
  {
   "cell_type": "code",
   "execution_count": 3,
   "metadata": {},
   "outputs": [
    {
     "data": {
      "text/html": [
       "<pre style=\"white-space:pre;overflow-x:auto;line-height:normal;font-family:Menlo,'DejaVu Sans Mono',consolas,'Courier New',monospace\">╭──────┬────────────────┬──────────┬──────────┬───────────────────╮\n",
       "│<span style=\"font-weight: bold\"> Host </span>│<span style=\"font-weight: bold\"> hostname       </span>│<span style=\"font-weight: bold\"> username </span>│<span style=\"font-weight: bold\"> platform </span>│<span style=\"font-weight: bold\"> data              </span>│\n",
       "├──────┼────────────────┼──────────┼──────────┼───────────────────┤\n",
       "│ vyos │ 192.168.99.170 │ vyos     │ vyos     │ {}                │\n",
       "╰──────┴────────────────┴──────────┴──────────┴───────────────────╯\n",
       "</pre>\n"
      ],
      "text/plain": [
       "<rich.jupyter.JupyterRenderable at 0x7ff204f78880>"
      ]
     },
     "metadata": {},
     "output_type": "display_data"
    }
   ],
   "source": [
    "rr.write_inventory(nr)"
   ]
  },
  {
   "cell_type": "code",
   "execution_count": 4,
   "metadata": {
    "scrolled": true
   },
   "outputs": [
    {
     "data": {
      "application/vnd.jupyter.widget-view+json": {
       "model_id": "9c8a1249084d43679c8bc2c45f853326",
       "version_major": 2,
       "version_minor": 0
      },
      "text/plain": [
       "Output()"
      ]
     },
     "metadata": {},
     "output_type": "display_data"
    },
    {
     "data": {
      "text/html": [
       "<pre style=\"white-space:pre;overflow-x:auto;line-height:normal;font-family:Menlo,'DejaVu Sans Mono',consolas,'Courier New',monospace\"><span style=\"color: #0000ff\">* vyos ** changed = </span><span style=\"color: #ff0000; font-style: italic\">False</span><span style=\"color: #0000ff\"> ************************ </span><span style=\"color: #0000ff; font-weight: bold\">[</span><span style=\"color: #000080; font-weight: bold\">0</span><span style=\"color: #0000ff\">:</span><span style=\"color: #000080; font-weight: bold\">00</span><span style=\"color: #0000ff\">:</span><span style=\"color: #000080; font-weight: bold\">06.704714</span><span style=\"color: #0000ff; font-weight: bold\">]</span>\n",
       "</pre>\n"
      ],
      "text/plain": [
       "<rich.jupyter.JupyterRenderable at 0x7ff1f5909550>"
      ]
     },
     "metadata": {},
     "output_type": "display_data"
    },
    {
     "data": {
      "text/html": [
       "<pre style=\"white-space:pre;overflow-x:auto;line-height:normal;font-family:Menlo,'DejaVu Sans Mono',consolas,'Courier New',monospace\"><span style=\"color: #008000\">---- run1 ** changed = False ---------------- INFO [0:00:06.684592]</span>\n",
       "</pre>\n"
      ],
      "text/plain": [
       "<rich.jupyter.JupyterRenderable at 0x7ff1f5665310>"
      ]
     },
     "metadata": {},
     "output_type": "display_data"
    },
    {
     "data": {
      "text/html": [
       "<pre style=\"white-space:pre;overflow-x:auto;line-height:normal;font-family:Menlo,'DejaVu Sans Mono',consolas,'Courier New',monospace\">{\n",
       "    'interfaces': {\n",
       "        'eth0': {\n",
       "            'is_up': True,\n",
       "            'is_enabled': True,\n",
       "            'description': '',\n",
       "            'last_flapped': -1.0,\n",
       "            'mtu': -1,\n",
       "            'speed': 0,\n",
       "            'mac_address': '08:00:27:e0:28:63'\n",
       "        },\n",
       "        'lo': {\n",
       "            'is_up': True,\n",
       "            'is_enabled': True,\n",
       "            'description': '',\n",
       "            'last_flapped': -1.0,\n",
       "            'mtu': -1,\n",
       "            'speed': 0,\n",
       "            'mac_address': '00:00:00:00:00:00'\n",
       "        }\n",
       "    }\n",
       "}\n",
       "</pre>\n"
      ],
      "text/plain": [
       "<rich.jupyter.JupyterRenderable at 0x7ff1f5665310>"
      ]
     },
     "metadata": {},
     "output_type": "display_data"
    },
    {
     "data": {
      "application/vnd.jupyter.widget-view+json": {
       "model_id": "d91491e908ce4916820a8e2caa8a9559",
       "version_major": 2,
       "version_minor": 0
      },
      "text/plain": [
       "Output()"
      ]
     },
     "metadata": {},
     "output_type": "display_data"
    },
    {
     "data": {
      "text/html": [
       "<pre style=\"white-space:pre;overflow-x:auto;line-height:normal;font-family:Menlo,'DejaVu Sans Mono',consolas,'Courier New',monospace\"><span style=\"color: #0000ff\">* vyos ** changed = </span><span style=\"color: #ff0000; font-style: italic\">False</span><span style=\"color: #0000ff\"> ************************ </span><span style=\"color: #0000ff; font-weight: bold\">[</span><span style=\"color: #000080; font-weight: bold\">0</span><span style=\"color: #0000ff\">:</span><span style=\"color: #000080; font-weight: bold\">00</span><span style=\"color: #0000ff\">:</span><span style=\"color: #000080; font-weight: bold\">02.039629</span><span style=\"color: #0000ff; font-weight: bold\">]</span>\n",
       "</pre>\n"
      ],
      "text/plain": [
       "<rich.jupyter.JupyterRenderable at 0x7ff1f56a5c70>"
      ]
     },
     "metadata": {},
     "output_type": "display_data"
    },
    {
     "data": {
      "text/html": [
       "<pre style=\"white-space:pre;overflow-x:auto;line-height:normal;font-family:Menlo,'DejaVu Sans Mono',consolas,'Courier New',monospace\"><span style=\"color: #008000\">---- run2 ** changed = False ---------------- INFO [0:00:02.012886]</span>\n",
       "</pre>\n"
      ],
      "text/plain": [
       "<rich.jupyter.JupyterRenderable at 0x7ff1f5704ac0>"
      ]
     },
     "metadata": {},
     "output_type": "display_data"
    },
    {
     "data": {
      "text/html": [
       "<pre style=\"white-space:pre;overflow-x:auto;line-height:normal;font-family:Menlo,'DejaVu Sans Mono',consolas,'Courier New',monospace\">{\n",
       "    'interfaces': {\n",
       "        'eth0': {\n",
       "            'is_up': True,\n",
       "            'is_enabled': True,\n",
       "            'description': '',\n",
       "            'last_flapped': -1.0,\n",
       "            'mtu': -1,\n",
       "            'speed': 0,\n",
       "            'mac_address': '08:00:27:e0:28:63'\n",
       "        },\n",
       "        'lo': {\n",
       "            'is_up': True,\n",
       "            'is_enabled': True,\n",
       "            'description': '',\n",
       "            'last_flapped': -1.0,\n",
       "            'mtu': -1,\n",
       "            'speed': 0,\n",
       "            'mac_address': '00:00:00:00:00:00'\n",
       "        }\n",
       "    }\n",
       "}\n",
       "</pre>\n"
      ],
      "text/plain": [
       "<rich.jupyter.JupyterRenderable at 0x7ff1f56a5fa0>"
      ]
     },
     "metadata": {},
     "output_type": "display_data"
    },
    {
     "data": {
      "application/vnd.jupyter.widget-view+json": {
       "model_id": "0bb66a226db042cb839e58e506359a00",
       "version_major": 2,
       "version_minor": 0
      },
      "text/plain": [
       "Output()"
      ]
     },
     "metadata": {},
     "output_type": "display_data"
    },
    {
     "data": {
      "text/html": [
       "<pre style=\"white-space:pre;overflow-x:auto;line-height:normal;font-family:Menlo,'DejaVu Sans Mono',consolas,'Courier New',monospace\"><span style=\"color: #0000ff\">* vyos ** changed = </span><span style=\"color: #ff0000; font-style: italic\">False</span><span style=\"color: #0000ff\"> ************************ </span><span style=\"color: #0000ff; font-weight: bold\">[</span><span style=\"color: #000080; font-weight: bold\">0</span><span style=\"color: #0000ff\">:</span><span style=\"color: #000080; font-weight: bold\">00</span><span style=\"color: #0000ff\">:</span><span style=\"color: #000080; font-weight: bold\">02.033010</span><span style=\"color: #0000ff; font-weight: bold\">]</span>\n",
       "</pre>\n"
      ],
      "text/plain": [
       "<rich.jupyter.JupyterRenderable at 0x7ff1f56653a0>"
      ]
     },
     "metadata": {},
     "output_type": "display_data"
    },
    {
     "data": {
      "text/html": [
       "<pre style=\"white-space:pre;overflow-x:auto;line-height:normal;font-family:Menlo,'DejaVu Sans Mono',consolas,'Courier New',monospace\"><span style=\"color: #008000\">---- run3 ** changed = False ---------------- INFO [0:00:02.010315]</span>\n",
       "</pre>\n"
      ],
      "text/plain": [
       "<rich.jupyter.JupyterRenderable at 0x7ff1f56a5ca0>"
      ]
     },
     "metadata": {},
     "output_type": "display_data"
    },
    {
     "data": {
      "text/html": [
       "<pre style=\"white-space:pre;overflow-x:auto;line-height:normal;font-family:Menlo,'DejaVu Sans Mono',consolas,'Courier New',monospace\">{\n",
       "    'interfaces': {\n",
       "        'eth0': {\n",
       "            'is_up': True,\n",
       "            'is_enabled': True,\n",
       "            'description': '',\n",
       "            'last_flapped': -1.0,\n",
       "            'mtu': -1,\n",
       "            'speed': 0,\n",
       "            'mac_address': '08:00:27:e0:28:63'\n",
       "        },\n",
       "        'lo': {\n",
       "            'is_up': True,\n",
       "            'is_enabled': True,\n",
       "            'description': '',\n",
       "            'last_flapped': -1.0,\n",
       "            'mtu': -1,\n",
       "            'speed': 0,\n",
       "            'mac_address': '00:00:00:00:00:00'\n",
       "        }\n",
       "    }\n",
       "}\n",
       "</pre>\n"
      ],
      "text/plain": [
       "<rich.jupyter.JupyterRenderable at 0x7ff1f56a5fd0>"
      ]
     },
     "metadata": {},
     "output_type": "display_data"
    },
    {
     "data": {
      "text/plain": [
       "AggregatedResult (run3): {'vyos': MultiResult: [Result: \"run3\"]}"
      ]
     },
     "execution_count": 4,
     "metadata": {},
     "output_type": "execute_result"
    }
   ],
   "source": [
    "nr.run(task=napalm_get, getters=['interfaces'], name='run1')\n",
    "nr.run(task=napalm_get, getters=['interfaces'], name='run2')\n",
    "nr.run(task=napalm_get, getters=['interfaces'], name='run3')"
   ]
  },
  {
   "cell_type": "code",
   "execution_count": 5,
   "metadata": {},
   "outputs": [
    {
     "data": {
      "text/html": [
       "<pre style=\"white-space:pre;overflow-x:auto;line-height:normal;font-family:Menlo,'DejaVu Sans Mono',consolas,'Courier New',monospace\">╭───────────────────────────────────────┬────────┬────────┬───────╮\n",
       "│<span style=\"font-weight: bold\"> Task                                  </span>│<span style=\"font-weight: bold\"> Ok     </span>│<span style=\"font-weight: bold\"> Chang… </span>│<span style=\"font-weight: bold\"> Fail… </span>│\n",
       "├───────────────────────────────────────┼────────┼────────┼───────┤\n",
       "│ run1                                  │<span style=\"color: #008000\"> 1      </span>│<span style=\"color: #ffaf00\"> 0      </span>│<span style=\"color: #800000\"> 0     </span>│\n",
       "│ run2                                  │<span style=\"color: #008000\"> 1      </span>│<span style=\"color: #ffaf00\"> 0      </span>│<span style=\"color: #800000\"> 0     </span>│\n",
       "│ run3                                  │<span style=\"color: #008000\"> 1      </span>│<span style=\"color: #ffaf00\"> 0      </span>│<span style=\"color: #800000\"> 0     </span>│\n",
       "├───────────────────────────────────────┼────────┼────────┼───────┤\n",
       "│<span style=\"font-weight: bold\"> Total                                 </span>│<span style=\"font-weight: bold\"> 3      </span>│<span style=\"font-weight: bold\"> 0      </span>│<span style=\"font-weight: bold\"> 0     </span>│\n",
       "╰───────────────────────────────────────┴────────┴────────┴───────╯\n",
       "</pre>\n"
      ],
      "text/plain": [
       "<rich.jupyter.JupyterRenderable at 0x7ff1f5665310>"
      ]
     },
     "metadata": {},
     "output_type": "display_data"
    }
   ],
   "source": [
    "rr.write_summary()"
   ]
  }
 ],
 "metadata": {
  "kernelspec": {
   "display_name": "Python 3.8.2 64-bit ('.venv': venv)",
   "language": "python",
   "name": "python38264bitvenvvenvf64dd4b380bd459fb245d8c53eb08903"
  },
  "language_info": {
   "codemirror_mode": {
    "name": "ipython",
    "version": 3
   },
   "file_extension": ".py",
   "mimetype": "text/x-python",
   "name": "python",
   "nbconvert_exporter": "python",
   "pygments_lexer": "ipython3",
   "version": "3.8.2-final"
  }
 },
 "nbformat": 4,
 "nbformat_minor": 4
}
