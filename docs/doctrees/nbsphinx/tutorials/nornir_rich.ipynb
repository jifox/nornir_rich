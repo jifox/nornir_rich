{
 "cells": [
  {
   "cell_type": "markdown",
   "metadata": {},
   "source": [
    "# nornir_rich\n",
    "nornir_rich plugin is a combination of a processor to get additional detail for results and related functions.  By default all results are output to stdout without requiring and print_result statements.\n",
    "\n",
    "The processor constructor has some options related to keeping track of timing, screen width and whether or not to utilize progress bars.  The example below uses all defaults."
   ]
  },
  {
   "cell_type": "code",
   "execution_count": 1,
   "metadata": {},
   "outputs": [],
   "source": [
    "from nornir import InitNornir\n",
    "from nornir_napalm.plugins.tasks import napalm_get\n",
    "\n",
    "nr = InitNornir(\n",
    "    inventory={\n",
    "        \"plugin\": \"SimpleInventory\",\n",
    "        \"options\": {\n",
    "            \"host_file\": \"inventory/hosts.yaml\",\n",
    "            \"group_file\": \"inventory/groups.yaml\",\n",
    "            \"defaults_file\": \"inventory/defaults.yaml\",\n",
    "        }\n",
    "    },\n",
    ")"
   ]
  },
  {
   "cell_type": "markdown",
   "metadata": {},
   "source": [
    "After creating the standard Nornir object, a RichResults processor object is instantiated and added to Nornir.  The width of 67 in the example was only used as this notebook is going into read the docs via sphinx and without it the output required a scroll bar.  Normally leaving this at defaults will just use up max length of the terminal."
   ]
  },
  {
   "cell_type": "code",
   "execution_count": 2,
   "metadata": {},
   "outputs": [],
   "source": [
    "from nornir_rich.plugins.functions import RichResults\n",
    "rr = RichResults()"
   ]
  },
  {
   "cell_type": "markdown",
   "metadata": {},
   "source": [
    "A basic password transform is done on the inventory using dotenv applied environment variables.  This is just for test environment setup."
   ]
  },
  {
   "cell_type": "code",
   "execution_count": 3,
   "metadata": {},
   "outputs": [
    {
     "data": {
      "text/html": [
       "<pre style=\"white-space:pre;overflow-x:auto;line-height:normal;font-family:Menlo,'DejaVu Sans Mono',consolas,'Courier New',monospace\">passwd_from_env*****************************************************************\n",
       "</pre>\n"
      ],
      "text/plain": [
       "<rich.jupyter.JupyterRenderable at 0x7f5bd3fa3e80>"
      ]
     },
     "metadata": {},
     "output_type": "display_data"
    },
    {
     "data": {
      "text/html": [
       "<pre style=\"white-space:pre;overflow-x:auto;line-height:normal;font-family:Menlo,'DejaVu Sans Mono',consolas,'Courier New',monospace\"><span style=\"color: #000080\">* vyos ** changed = </span><span style=\"color: #ff0000; font-style: italic\">False</span><span style=\"color: #000080\"> ******************************************************</span>\n",
       "</pre>\n"
      ],
      "text/plain": [
       "<rich.jupyter.JupyterRenderable at 0x7f5bd3e4ff10>"
      ]
     },
     "metadata": {},
     "output_type": "display_data"
    },
    {
     "data": {
      "text/html": [
       "<pre style=\"white-space:pre;overflow-x:auto;line-height:normal;font-family:Menlo,'DejaVu Sans Mono',consolas,'Courier New',monospace\"><span style=\"color: #005f00\">vvvv passwd_from_env ** changed = False vvvvvvvvvvvvvvvvvvvvvvvvvvvvvvvvvvv INFO</span>\n",
       "</pre>\n"
      ],
      "text/plain": [
       "<rich.jupyter.JupyterRenderable at 0x7f5bd3fa3e80>"
      ]
     },
     "metadata": {},
     "output_type": "display_data"
    },
    {
     "data": {
      "text/html": [
       "<pre style=\"white-space:pre;overflow-x:auto;line-height:normal;font-family:Menlo,'DejaVu Sans Mono',consolas,'Courier New',monospace\"><span style=\"color: #005f00\">^^^^ END passwd_from_env ^^^^^^^^^^^^^^^^^^^^^^^^^^^^^^^^^^^^^^^^^^^^^^^^^^^^^^^</span>\n",
       "</pre>\n"
      ],
      "text/plain": [
       "<rich.jupyter.JupyterRenderable at 0x7f5bd3e5f760>"
      ]
     },
     "metadata": {},
     "output_type": "display_data"
    }
   ],
   "source": [
    "import os\n",
    "from dotenv import load_dotenv, find_dotenv\n",
    "load_dotenv(find_dotenv())\n",
    "\n",
    "def passwd_from_env(task):\n",
    "    task.host.password = os.getenv(task.host.password)\n",
    "\n",
    "rr.print(nr.run(passwd_from_env))"
   ]
  },
  {
   "cell_type": "markdown",
   "metadata": {},
   "source": [
    "By default, write_inventory function won't list passwords without the passwords=True argument."
   ]
  },
  {
   "cell_type": "code",
   "execution_count": 4,
   "metadata": {},
   "outputs": [
    {
     "data": {
      "text/html": [
       "<pre style=\"white-space:pre;overflow-x:auto;line-height:normal;font-family:Menlo,'DejaVu Sans Mono',consolas,'Courier New',monospace\">╭────────────────┬─────────────────────────────────────────────────────────────╮\n",
       "│<span style=\"font-weight: bold\"> Host           </span>│<span style=\"font-weight: bold\"> Data                                                        </span>│\n",
       "├────────────────┼─────────────────────────────────────────────────────────────┤\n",
       "│ vyos           │ connection_options: {}                                      │\n",
       "│                │ data: {}                                                    │\n",
       "│                │ groups: []                                                  │\n",
       "│                │ hostname: localhost                                         │\n",
       "│                │ name: vyos                                                  │\n",
       "│                │ password: '******'                                          │\n",
       "│                │ platform: vyos                                              │\n",
       "│                │ port: null                                                  │\n",
       "│                │ username: vyos                                              │\n",
       "│                │                                                             │\n",
       "╰────────────────┴─────────────────────────────────────────────────────────────╯\n",
       "</pre>\n"
      ],
      "text/plain": [
       "<rich.jupyter.JupyterRenderable at 0x7f5bec03bfd0>"
      ]
     },
     "metadata": {},
     "output_type": "display_data"
    }
   ],
   "source": [
    "rr.inventory(nr)"
   ]
  },
  {
   "cell_type": "code",
   "execution_count": 10,
   "metadata": {
    "scrolled": true
   },
   "outputs": [
    {
     "data": {
      "text/html": [
       "<pre style=\"white-space:pre;overflow-x:auto;line-height:normal;font-family:Menlo,'DejaVu Sans Mono',consolas,'Courier New',monospace\">run1****************************************************************************\n",
       "</pre>\n"
      ],
      "text/plain": [
       "<rich.jupyter.JupyterRenderable at 0x7f5bd16ea520>"
      ]
     },
     "metadata": {},
     "output_type": "display_data"
    },
    {
     "data": {
      "text/html": [
       "<pre style=\"white-space:pre;overflow-x:auto;line-height:normal;font-family:Menlo,'DejaVu Sans Mono',consolas,'Courier New',monospace\"><span style=\"color: #000080\">* vyos ** changed = </span><span style=\"color: #ff0000; font-style: italic\">False</span><span style=\"color: #000080\"> ******************************************************</span>\n",
       "</pre>\n"
      ],
      "text/plain": [
       "<rich.jupyter.JupyterRenderable at 0x7f5bd16ea520>"
      ]
     },
     "metadata": {},
     "output_type": "display_data"
    },
    {
     "data": {
      "text/html": [
       "<pre style=\"white-space:pre;overflow-x:auto;line-height:normal;font-family:Menlo,'DejaVu Sans Mono',consolas,'Courier New',monospace\"><span style=\"color: #800000\">vvvv run1 ** changed = False vvvvvvvvvvvvvvvvvvvvvvvvvvvvvvvvvvvvvvvvvvvvv ERROR</span>\n",
       "</pre>\n"
      ],
      "text/plain": [
       "<rich.jupyter.JupyterRenderable at 0x7f5bd17015e0>"
      ]
     },
     "metadata": {},
     "output_type": "display_data"
    },
    {
     "data": {
      "text/html": [
       "<pre style=\"white-space:pre;overflow-x:auto;line-height:normal;font-family:Menlo,'DejaVu Sans Mono',consolas,'Courier New',monospace\">Traceback (most recent call last):\n",
       "  File \"/home/patrick/dev/nornir_rich/.venv/lib/python3.8/site-packages/nornir/core/task.py\",\n",
       "line 98, in start\n",
       "    r = self.task(self, **self.params)\n",
       "  File \"/home/patrick/dev/nornir_rich/.venv/lib/python3.8/site-packages/nornir_napalm/plugins\n",
       "/tasks/napalm_get.py\", line 32, in napalm_get\n",
       "    device = task.host.get_connection(CONNECTION_NAME, task.nornir.config)\n",
       "  File \n",
       "\"/home/patrick/dev/nornir_rich/.venv/lib/python3.8/site-packages/nornir/core/inventory.py\", \n",
       "line 440, in get_connection\n",
       "    self.open_connection(\n",
       "  File \n",
       "\"/home/patrick/dev/nornir_rich/.venv/lib/python3.8/site-packages/nornir/core/inventory.py\", \n",
       "line 492, in open_connection\n",
       "    conn_obj.open(\n",
       "  File \"/home/patrick/dev/nornir_rich/.venv/lib/python3.8/site-packages/nornir_napalm/plugins\n",
       "/connections/__init__.py\", line 57, in open\n",
       "    connection.open()\n",
       "  File \"/home/patrick/dev/nornir_rich/.venv/lib/python3.8/site-packages/napalm_vyos/vyos.py\",\n",
       "line 98, in open\n",
       "    self.device = ConnectHandler(device_type='vyos',\n",
       "  File \n",
       "\"/home/patrick/dev/nornir_rich/.venv/lib/python3.8/site-packages/netmiko/ssh_dispatcher.py\", \n",
       "line 302, in ConnectHandler\n",
       "    return ConnectionClass(*args, **kwargs)\n",
       "  File \n",
       "\"/home/patrick/dev/nornir_rich/.venv/lib/python3.8/site-packages/netmiko/base_connection.py\",\n",
       "line 344, in __init__\n",
       "    self._open()\n",
       "  File \n",
       "\"/home/patrick/dev/nornir_rich/.venv/lib/python3.8/site-packages/netmiko/base_connection.py\",\n",
       "line 349, in _open\n",
       "    self.establish_connection()\n",
       "  File \n",
       "\"/home/patrick/dev/nornir_rich/.venv/lib/python3.8/site-packages/netmiko/base_connection.py\",\n",
       "line 918, in establish_connection\n",
       "    self.remote_conn_pre.connect(**ssh_connect_params)\n",
       "  File \"/home/patrick/dev/nornir_rich/.venv/lib/python3.8/site-packages/paramiko/client.py\", \n",
       "line 435, in connect\n",
       "    self._auth(\n",
       "  File \"/home/patrick/dev/nornir_rich/.venv/lib/python3.8/site-packages/paramiko/client.py\", \n",
       "line 764, in _auth\n",
       "    raise saved_exception\n",
       "  File \"/home/patrick/dev/nornir_rich/.venv/lib/python3.8/site-packages/paramiko/client.py\", \n",
       "line 751, in _auth\n",
       "    self._transport.auth_password(username, password)\n",
       "  File \n",
       "\"/home/patrick/dev/nornir_rich/.venv/lib/python3.8/site-packages/paramiko/transport.py\", line\n",
       "1509, in auth_password\n",
       "    return self.auth_handler.wait_for_response(my_event)\n",
       "  File \n",
       "\"/home/patrick/dev/nornir_rich/.venv/lib/python3.8/site-packages/paramiko/auth_handler.py\", \n",
       "line 250, in wait_for_response\n",
       "    raise e\n",
       "paramiko.ssh_exception.AuthenticationException: Authentication failed.\n",
       "\n",
       "</pre>\n"
      ],
      "text/plain": [
       "<rich.jupyter.JupyterRenderable at 0x7f5bd17015e0>"
      ]
     },
     "metadata": {},
     "output_type": "display_data"
    },
    {
     "data": {
      "text/html": [
       "<pre style=\"white-space:pre;overflow-x:auto;line-height:normal;font-family:Menlo,'DejaVu Sans Mono',consolas,'Courier New',monospace\"><span style=\"color: #800000\">^^^^ END run1 ^^^^^^^^^^^^^^^^^^^^^^^^^^^^^^^^^^^^^^^^^^^^^^^^^^^^^^^^^^^^^^^^^^</span>\n",
       "</pre>\n"
      ],
      "text/plain": [
       "<rich.jupyter.JupyterRenderable at 0x7f5bd16ea5e0>"
      ]
     },
     "metadata": {},
     "output_type": "display_data"
    }
   ],
   "source": [
    "rr.print(nr.run(task=napalm_get, getters=['interfaces'], name='run1'))"
   ]
  },
  {
   "cell_type": "markdown",
   "metadata": {},
   "source": [
    "The write_summary method will provide a summary of the run."
   ]
  },
  {
   "cell_type": "code",
   "execution_count": 11,
   "metadata": {},
   "outputs": [
    {
     "data": {
      "text/html": [
       "<pre style=\"white-space:pre;overflow-x:auto;line-height:normal;font-family:Menlo,'DejaVu Sans Mono',consolas,'Courier New',monospace\">╭───────────────────────────────────────────────┬──────────┬─────────┬─────────╮\n",
       "│<span style=\"font-weight: bold\"> Task                                          </span>│<span style=\"font-weight: bold\"> Ok       </span>│<span style=\"font-weight: bold\"> Changed </span>│<span style=\"font-weight: bold\"> Failed  </span>│\n",
       "├───────────────────────────────────────────────┼──────────┼─────────┼─────────┤\n",
       "│ passwd_from_env                               │ 1        │ -       │ -       │\n",
       "│ return_changed                                │ -        │ -       │ -       │\n",
       "│ return_failed                                 │ -        │ -       │ -       │\n",
       "│ return_changed                                │ -        │ -       │ -       │\n",
       "│ grouped                                       │ 3        │ 1       │ -       │\n",
       "│ run1                                          │ -        │ -       │ 1       │\n",
       "├───────────────────────────────────────────────┼──────────┼─────────┼─────────┤\n",
       "│<span style=\"font-weight: bold\"> Total                                         </span>│<span style=\"font-weight: bold\"> 4        </span>│<span style=\"font-weight: bold\"> 1       </span>│<span style=\"font-weight: bold\"> 1       </span>│\n",
       "╰───────────────────────────────────────────────┴──────────┴─────────┴─────────╯\n",
       "</pre>\n"
      ],
      "text/plain": [
       "<rich.jupyter.JupyterRenderable at 0x7f5bd16ea5e0>"
      ]
     },
     "metadata": {},
     "output_type": "display_data"
    }
   ],
   "source": [
    "rr.summary()"
   ]
  },
  {
   "cell_type": "markdown",
   "metadata": {},
   "source": [
    "Skip messages are displayed by default for skipped hosts when a task is run from nr with skipped hosts present."
   ]
  },
  {
   "cell_type": "markdown",
   "metadata": {},
   "source": []
  },
  {
   "cell_type": "code",
   "execution_count": 12,
   "metadata": {},
   "outputs": [
    {
     "data": {
      "text/html": [
       "<pre style=\"white-space:pre;overflow-x:auto;line-height:normal;font-family:Menlo,'DejaVu Sans Mono',consolas,'Courier New',monospace\">return_changed******************************************************************\n",
       "</pre>\n"
      ],
      "text/plain": [
       "<rich.jupyter.JupyterRenderable at 0x7f5bd0d3d610>"
      ]
     },
     "metadata": {},
     "output_type": "display_data"
    },
    {
     "data": {
      "text/html": [
       "<pre style=\"white-space:pre;overflow-x:auto;line-height:normal;font-family:Menlo,'DejaVu Sans Mono',consolas,'Courier New',monospace\"><span style=\"color: #000080\">* vyos ** changed = </span><span style=\"color: #00ff00; font-style: italic\">True</span><span style=\"color: #000080\"> *******************************************************</span>\n",
       "</pre>\n"
      ],
      "text/plain": [
       "<rich.jupyter.JupyterRenderable at 0x7f5bd0d3d610>"
      ]
     },
     "metadata": {},
     "output_type": "display_data"
    },
    {
     "data": {
      "text/html": [
       "<pre style=\"white-space:pre;overflow-x:auto;line-height:normal;font-family:Menlo,'DejaVu Sans Mono',consolas,'Courier New',monospace\"><span style=\"color: #ffaf00\">vvvv return_changed ** changed = True vvvvvvvvvvvvvvvvvvvvvvvvvvvvvvvvvvvvv INFO</span>\n",
       "</pre>\n"
      ],
      "text/plain": [
       "<rich.jupyter.JupyterRenderable at 0x7f5bd0fd3100>"
      ]
     },
     "metadata": {},
     "output_type": "display_data"
    },
    {
     "data": {
      "text/html": [
       "<pre style=\"white-space:pre;overflow-x:auto;line-height:normal;font-family:Menlo,'DejaVu Sans Mono',consolas,'Courier New',monospace\"><span style=\"color: #ffaf00\">^^^^ END return_changed ^^^^^^^^^^^^^^^^^^^^^^^^^^^^^^^^^^^^^^^^^^^^^^^^^^^^^^^^</span>\n",
       "</pre>\n"
      ],
      "text/plain": [
       "<rich.jupyter.JupyterRenderable at 0x7f5bd0fd3310>"
      ]
     },
     "metadata": {},
     "output_type": "display_data"
    },
    {
     "data": {
      "text/html": [
       "<pre style=\"white-space:pre;overflow-x:auto;line-height:normal;font-family:Menlo,'DejaVu Sans Mono',consolas,'Courier New',monospace\">return_failed*******************************************************************\n",
       "</pre>\n"
      ],
      "text/plain": [
       "<rich.jupyter.JupyterRenderable at 0x7f5bd0d3d7f0>"
      ]
     },
     "metadata": {},
     "output_type": "display_data"
    },
    {
     "data": {
      "text/html": [
       "<pre style=\"white-space:pre;overflow-x:auto;line-height:normal;font-family:Menlo,'DejaVu Sans Mono',consolas,'Courier New',monospace\"><span style=\"color: #000080\">* vyos ** changed = </span><span style=\"color: #ff0000; font-style: italic\">False</span><span style=\"color: #000080\"> ******************************************************</span>\n",
       "</pre>\n"
      ],
      "text/plain": [
       "<rich.jupyter.JupyterRenderable at 0x7f5bd0d3d7f0>"
      ]
     },
     "metadata": {},
     "output_type": "display_data"
    },
    {
     "data": {
      "text/html": [
       "<pre style=\"white-space:pre;overflow-x:auto;line-height:normal;font-family:Menlo,'DejaVu Sans Mono',consolas,'Courier New',monospace\"><span style=\"color: #800000\">vvvv return_failed ** changed = False vvvvvvvvvvvvvvvvvvvvvvvvvvvvvvvvvvvv ERROR</span>\n",
       "</pre>\n"
      ],
      "text/plain": [
       "<rich.jupyter.JupyterRenderable at 0x7f5bd0fd91f0>"
      ]
     },
     "metadata": {},
     "output_type": "display_data"
    },
    {
     "data": {
      "text/html": [
       "<pre style=\"white-space:pre;overflow-x:auto;line-height:normal;font-family:Menlo,'DejaVu Sans Mono',consolas,'Courier New',monospace\"><span style=\"color: #800000\">^^^^ END return_failed ^^^^^^^^^^^^^^^^^^^^^^^^^^^^^^^^^^^^^^^^^^^^^^^^^^^^^^^^^</span>\n",
       "</pre>\n"
      ],
      "text/plain": [
       "<rich.jupyter.JupyterRenderable at 0x7f5bd0fd91f0>"
      ]
     },
     "metadata": {},
     "output_type": "display_data"
    },
    {
     "data": {
      "text/html": [
       "<pre style=\"white-space:pre;overflow-x:auto;line-height:normal;font-family:Menlo,'DejaVu Sans Mono',consolas,'Courier New',monospace\">return_changed******************************************************************\n",
       "</pre>\n"
      ],
      "text/plain": [
       "<rich.jupyter.JupyterRenderable at 0x7f5bd0fd91f0>"
      ]
     },
     "metadata": {},
     "output_type": "display_data"
    }
   ],
   "source": [
    "nr.data.reset_failed_hosts()\n",
    "from nornir.core.task import Result\n",
    "\n",
    "def return_changed(task):\n",
    "    return Result(task.host, changed=True)\n",
    "\n",
    "def return_failed(task):\n",
    "    return Result(host=task.host, failed=True)\n",
    "\n",
    "rr.print(nr.run(return_changed))\n",
    "rr.print(nr.run(return_failed))\n",
    "rr.print(nr.run(return_changed))"
   ]
  },
  {
   "cell_type": "code",
   "execution_count": 13,
   "metadata": {},
   "outputs": [
    {
     "data": {
      "text/html": [
       "<pre style=\"white-space:pre;overflow-x:auto;line-height:normal;font-family:Menlo,'DejaVu Sans Mono',consolas,'Courier New',monospace\">╭───────────────────────────────────────────────┬──────────┬─────────┬─────────╮\n",
       "│<span style=\"font-weight: bold\"> Task                                          </span>│<span style=\"font-weight: bold\"> Ok       </span>│<span style=\"font-weight: bold\"> Changed </span>│<span style=\"font-weight: bold\"> Failed  </span>│\n",
       "├───────────────────────────────────────────────┼──────────┼─────────┼─────────┤\n",
       "│ passwd_from_env                               │ 1        │ -       │ -       │\n",
       "│ return_changed                                │ -        │ -       │ -       │\n",
       "│ return_failed                                 │ -        │ -       │ -       │\n",
       "│ return_changed                                │ -        │ -       │ -       │\n",
       "│ grouped                                       │ 3        │ 1       │ -       │\n",
       "│ run1                                          │ -        │ -       │ 1       │\n",
       "│ return_changed                                │ -        │ 1       │ -       │\n",
       "│ return_failed                                 │ -        │ -       │ 1       │\n",
       "│ return_changed                                │ -        │ -       │ -       │\n",
       "├───────────────────────────────────────────────┼──────────┼─────────┼─────────┤\n",
       "│<span style=\"font-weight: bold\"> Total                                         </span>│<span style=\"font-weight: bold\"> 4        </span>│<span style=\"font-weight: bold\"> 2       </span>│<span style=\"font-weight: bold\"> 2       </span>│\n",
       "╰───────────────────────────────────────────────┴──────────┴─────────┴─────────╯\n",
       "</pre>\n"
      ],
      "text/plain": [
       "<rich.jupyter.JupyterRenderable at 0x7f5bd0fd3130>"
      ]
     },
     "metadata": {},
     "output_type": "display_data"
    }
   ],
   "source": [
    "rr.summary()"
   ]
  },
  {
   "cell_type": "markdown",
   "metadata": {},
   "source": [
    "Output formats are mostly handled ok and can either be highlighted with rich or left as uncolored.  By default it is uncolored as the highlighting isn't exactly pleasing to my eyes minus the exceptions."
   ]
  },
  {
   "cell_type": "code",
   "execution_count": 14,
   "metadata": {},
   "outputs": [
    {
     "data": {
      "text/html": [
       "<pre style=\"white-space:pre;overflow-x:auto;line-height:normal;font-family:Menlo,'DejaVu Sans Mono',consolas,'Courier New',monospace\">grouped*************************************************************************\n",
       "</pre>\n"
      ],
      "text/plain": [
       "<rich.jupyter.JupyterRenderable at 0x7f5bd0e71fd0>"
      ]
     },
     "metadata": {},
     "output_type": "display_data"
    },
    {
     "data": {
      "text/html": [
       "<pre style=\"white-space:pre;overflow-x:auto;line-height:normal;font-family:Menlo,'DejaVu Sans Mono',consolas,'Courier New',monospace\"><span style=\"color: #000080\">* vyos ** changed = </span><span style=\"color: #00ff00; font-style: italic\">True</span><span style=\"color: #000080\"> *******************************************************</span>\n",
       "</pre>\n"
      ],
      "text/plain": [
       "<rich.jupyter.JupyterRenderable at 0x7f5bd0fd34c0>"
      ]
     },
     "metadata": {},
     "output_type": "display_data"
    },
    {
     "data": {
      "text/html": [
       "<pre style=\"white-space:pre;overflow-x:auto;line-height:normal;font-family:Menlo,'DejaVu Sans Mono',consolas,'Courier New',monospace\"><span style=\"color: #005f00\">vvvv grouped ** changed = False vvvvvvvvvvvvvvvvvvvvvvvvvvvvvvvvvvvvvvvvvvv INFO</span>\n",
       "</pre>\n"
      ],
      "text/plain": [
       "<rich.jupyter.JupyterRenderable at 0x7f5bd0e71fd0>"
      ]
     },
     "metadata": {},
     "output_type": "display_data"
    },
    {
     "ename": "TypeError",
     "evalue": "_print_result() missing 3 required positional arguments: 'vars', 'failed', and 'severity_level'",
     "output_type": "error",
     "traceback": [
      "\u001b[0;31m---------------------------------------------------------------------------\u001b[0m",
      "\u001b[0;31mTypeError\u001b[0m                                 Traceback (most recent call last)",
      "\u001b[0;32m<ipython-input-14-dac04d34c47d>\u001b[0m in \u001b[0;36m<module>\u001b[0;34m\u001b[0m\n\u001b[1;32m     17\u001b[0m \u001b[0;34m\u001b[0m\u001b[0m\n\u001b[1;32m     18\u001b[0m \u001b[0mnr\u001b[0m\u001b[0;34m.\u001b[0m\u001b[0mdata\u001b[0m\u001b[0;34m.\u001b[0m\u001b[0mreset_failed_hosts\u001b[0m\u001b[0;34m(\u001b[0m\u001b[0;34m)\u001b[0m\u001b[0;34m\u001b[0m\u001b[0;34m\u001b[0m\u001b[0m\n\u001b[0;32m---> 19\u001b[0;31m \u001b[0mrr\u001b[0m\u001b[0;34m.\u001b[0m\u001b[0mprint\u001b[0m\u001b[0;34m(\u001b[0m\u001b[0mnr\u001b[0m\u001b[0;34m.\u001b[0m\u001b[0mrun\u001b[0m\u001b[0;34m(\u001b[0m\u001b[0mgrouped\u001b[0m\u001b[0;34m)\u001b[0m\u001b[0;34m)\u001b[0m\u001b[0;34m\u001b[0m\u001b[0;34m\u001b[0m\u001b[0m\n\u001b[0m",
      "\u001b[0;32m~/dev/nornir_rich/nornir_rich/plugins/functions/rich_result.py\u001b[0m in \u001b[0;36mprint\u001b[0;34m(self, result, vars, failed, severity_level)\u001b[0m\n\u001b[1;32m     41\u001b[0m         \u001b[0;32mtry\u001b[0m\u001b[0;34m:\u001b[0m\u001b[0;34m\u001b[0m\u001b[0;34m\u001b[0m\u001b[0m\n\u001b[1;32m     42\u001b[0m             \u001b[0mself\u001b[0m\u001b[0;34m.\u001b[0m\u001b[0mresults\u001b[0m\u001b[0;34m.\u001b[0m\u001b[0mappend\u001b[0m\u001b[0;34m(\u001b[0m\u001b[0mresult\u001b[0m\u001b[0;34m)\u001b[0m\u001b[0;34m\u001b[0m\u001b[0;34m\u001b[0m\u001b[0m\n\u001b[0;32m---> 43\u001b[0;31m             \u001b[0mself\u001b[0m\u001b[0;34m.\u001b[0m\u001b[0m_print_result\u001b[0m\u001b[0;34m(\u001b[0m\u001b[0mresult\u001b[0m\u001b[0;34m,\u001b[0m \u001b[0mvars\u001b[0m\u001b[0;34m,\u001b[0m \u001b[0mfailed\u001b[0m\u001b[0;34m,\u001b[0m \u001b[0mseverity_level\u001b[0m\u001b[0;34m)\u001b[0m\u001b[0;34m\u001b[0m\u001b[0;34m\u001b[0m\u001b[0m\n\u001b[0m\u001b[1;32m     44\u001b[0m         \u001b[0;32mfinally\u001b[0m\u001b[0;34m:\u001b[0m\u001b[0;34m\u001b[0m\u001b[0;34m\u001b[0m\u001b[0m\n\u001b[1;32m     45\u001b[0m             \u001b[0mLOCK\u001b[0m\u001b[0;34m.\u001b[0m\u001b[0mrelease\u001b[0m\u001b[0;34m(\u001b[0m\u001b[0;34m)\u001b[0m\u001b[0;34m\u001b[0m\u001b[0;34m\u001b[0m\u001b[0m\n",
      "\u001b[0;32m~/dev/nornir_rich/nornir_rich/plugins/functions/rich_result.py\u001b[0m in \u001b[0;36m_print_result\u001b[0;34m(self, result, vars, failed, severity_level)\u001b[0m\n\u001b[1;32m     64\u001b[0m                     \u001b[0mstyle\u001b[0m\u001b[0;34m=\u001b[0m\u001b[0mStyle\u001b[0m\u001b[0;34m(\u001b[0m\u001b[0mcolor\u001b[0m\u001b[0;34m=\u001b[0m\u001b[0;34m\"blue\"\u001b[0m\u001b[0;34m)\u001b[0m\u001b[0;34m,\u001b[0m\u001b[0;34m\u001b[0m\u001b[0;34m\u001b[0m\u001b[0m\n\u001b[1;32m     65\u001b[0m                 )\n\u001b[0;32m---> 66\u001b[0;31m                 \u001b[0mself\u001b[0m\u001b[0;34m.\u001b[0m\u001b[0m_print_result\u001b[0m\u001b[0;34m(\u001b[0m\u001b[0mhost_data\u001b[0m\u001b[0;34m,\u001b[0m \u001b[0mvars\u001b[0m\u001b[0;34m,\u001b[0m \u001b[0mfailed\u001b[0m\u001b[0;34m,\u001b[0m \u001b[0mseverity_level\u001b[0m\u001b[0;34m)\u001b[0m\u001b[0;34m\u001b[0m\u001b[0;34m\u001b[0m\u001b[0m\n\u001b[0m\u001b[1;32m     67\u001b[0m \u001b[0;34m\u001b[0m\u001b[0m\n\u001b[1;32m     68\u001b[0m         \u001b[0;32melif\u001b[0m \u001b[0misinstance\u001b[0m\u001b[0;34m(\u001b[0m\u001b[0mresult\u001b[0m\u001b[0;34m,\u001b[0m \u001b[0mMultiResult\u001b[0m\u001b[0;34m)\u001b[0m\u001b[0;34m:\u001b[0m\u001b[0;34m\u001b[0m\u001b[0;34m\u001b[0m\u001b[0m\n",
      "\u001b[0;32m~/dev/nornir_rich/nornir_rich/plugins/functions/rich_result.py\u001b[0m in \u001b[0;36m_print_result\u001b[0;34m(self, result, vars, failed, severity_level)\u001b[0m\n\u001b[1;32m     70\u001b[0m \u001b[0;34m\u001b[0m\u001b[0m\n\u001b[1;32m     71\u001b[0m             \u001b[0;32mfor\u001b[0m \u001b[0mr\u001b[0m \u001b[0;32min\u001b[0m \u001b[0mresult\u001b[0m\u001b[0;34m[\u001b[0m\u001b[0;36m1\u001b[0m\u001b[0;34m:\u001b[0m\u001b[0;34m]\u001b[0m\u001b[0;34m:\u001b[0m\u001b[0;34m\u001b[0m\u001b[0;34m\u001b[0m\u001b[0m\n\u001b[0;32m---> 72\u001b[0;31m                 \u001b[0mself\u001b[0m\u001b[0;34m.\u001b[0m\u001b[0m_print_result\u001b[0m\u001b[0;34m(\u001b[0m\u001b[0mr\u001b[0m\u001b[0;34m)\u001b[0m\u001b[0;34m\u001b[0m\u001b[0;34m\u001b[0m\u001b[0m\n\u001b[0m\u001b[1;32m     73\u001b[0m \u001b[0;34m\u001b[0m\u001b[0m\n\u001b[1;32m     74\u001b[0m             \u001b[0mmsg\u001b[0m \u001b[0;34m=\u001b[0m \u001b[0;34mf\"{'^' * 4} END {result[0].name} \"\u001b[0m\u001b[0;34m\u001b[0m\u001b[0;34m\u001b[0m\u001b[0m\n",
      "\u001b[0;31mTypeError\u001b[0m: _print_result() missing 3 required positional arguments: 'vars', 'failed', and 'severity_level'"
     ]
    }
   ],
   "source": [
    "def return_diff(task):\n",
    "    diff = open('inventory/test.diff', 'r').read()\n",
    "    return Result(host=task.host, diff=diff, changed=True)\n",
    "\n",
    "def return_json(task):\n",
    "    json = open('inventory/test.json', 'r').read()\n",
    "    return Result(host=task.host, stdout=json)\n",
    "\n",
    "def return_xml(task):\n",
    "    xml = open('inventory/test.xml', 'r').read()\n",
    "    return Result(host=task.host, result=xml)\n",
    "\n",
    "def grouped(task):\n",
    "    task.run(return_diff)\n",
    "    task.run(return_json)\n",
    "    task.run(return_xml)\n",
    "\n",
    "nr.data.reset_failed_hosts()\n",
    "rr.print(nr.run(grouped))"
   ]
  },
  {
   "cell_type": "markdown",
   "metadata": {},
   "source": [
    "Or highlighted..."
   ]
  }
 ],
 "metadata": {
  "kernelspec": {
   "display_name": "Python 3.8.2 64-bit ('.venv': venv)",
   "language": "python",
   "name": "python38264bitvenvvenvf64dd4b380bd459fb245d8c53eb08903"
  },
  "language_info": {
   "codemirror_mode": {
    "name": "ipython",
    "version": 3
   },
   "file_extension": ".py",
   "mimetype": "text/x-python",
   "name": "python",
   "nbconvert_exporter": "python",
   "pygments_lexer": "ipython3",
   "version": "3.8.2-final"
  }
 },
 "nbformat": 4,
 "nbformat_minor": 4
}
