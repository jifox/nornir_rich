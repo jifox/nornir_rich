{
 "cells": [
  {
   "cell_type": "markdown",
   "metadata": {},
   "source": [
    "# nornir_rich\n",
    "nornir_rich plugin is a combination of a processor to get additional detail for results and related functions.  By default all results are output to stdout without requiring and print_result statements.\n",
    "\n",
    "The processor constructor has some options related to keeping track of timing, screen width and whether or not to utilize progress bars.  The example below uses all defaults."
   ]
  },
  {
   "cell_type": "code",
   "execution_count": 1,
   "metadata": {},
   "outputs": [],
   "source": [
    "from nornir import InitNornir\n",
    "from nornir_napalm.plugins.tasks import napalm_get, napalm_cli\n",
    "\n",
    "nr = InitNornir(\n",
    "    inventory={\n",
    "        \"plugin\": \"SimpleInventory\",\n",
    "        \"options\": {\n",
    "            \"host_file\": \"inventory/hosts.yaml\",\n",
    "            \"group_file\": \"inventory/groups.yaml\",\n",
    "            \"defaults_file\": \"inventory/defaults.yaml\",\n",
    "        }\n",
    "    },\n",
    "    dry_run=True,\n",
    ")"
   ]
  },
  {
   "cell_type": "code",
   "execution_count": 2,
   "metadata": {},
   "outputs": [],
   "source": [
    "from nornir_rich.plugins.processors import RichResults\n",
    "rr = RichResults(width=67)\n",
    "nr.processors.append(rr)"
   ]
  },
  {
   "cell_type": "code",
   "execution_count": 3,
   "metadata": {},
   "outputs": [
    {
     "output_type": "display_data",
     "data": {
      "text/plain": "<rich.jupyter.JupyterRenderable at 0x7f497ca7d580>",
      "text/html": "<pre style=\"white-space:pre;overflow-x:auto;line-height:normal;font-family:Menlo,'DejaVu Sans Mono',consolas,'Courier New',monospace\">╭────────┬─────────────────────┬─────────────┬────────────┬───────╮\n│<span style=\"font-weight: bold\"> Host   </span>│<span style=\"font-weight: bold\"> hostname            </span>│<span style=\"font-weight: bold\"> username    </span>│<span style=\"font-weight: bold\"> platform   </span>│<span style=\"font-weight: bold\"> data  </span>│\n├────────┼─────────────────────┼─────────────┼────────────┼───────┤\n│ vyos   │ 192.168.99.170      │ vyos        │ vyos       │ {}    │\n╰────────┴─────────────────────┴─────────────┴────────────┴───────╯\n</pre>\n"
     },
     "metadata": {}
    }
   ],
   "source": [
    "rr.write_inventory(nr)"
   ]
  },
  {
   "cell_type": "code",
   "execution_count": 4,
   "metadata": {
    "scrolled": true
   },
   "outputs": [
    {
     "output_type": "display_data",
     "data": {
      "text/plain": "Output()",
      "application/vnd.jupyter.widget-view+json": {
       "version_major": 2,
       "version_minor": 0,
       "model_id": "d02bfc39460e413b898d61c3d4aa77de"
      }
     },
     "metadata": {}
    },
    {
     "output_type": "display_data",
     "data": {
      "text/plain": "<rich.jupyter.JupyterRenderable at 0x7f4994605eb0>",
      "text/html": "<pre style=\"white-space:pre;overflow-x:auto;line-height:normal;font-family:Menlo,'DejaVu Sans Mono',consolas,'Courier New',monospace\"><span style=\"color: #000080\">* vyos ** changed = </span><span style=\"color: #ff0000; font-style: italic\">False</span><span style=\"color: #000080\"> ************************ </span><span style=\"color: #000080; font-weight: bold\">[</span><span style=\"color: #000080; font-weight: bold\">0</span><span style=\"color: #000080\">:</span><span style=\"color: #000080; font-weight: bold\">00</span><span style=\"color: #000080\">:</span><span style=\"color: #000080; font-weight: bold\">06.692718</span><span style=\"color: #000080; font-weight: bold\">]</span>\n</pre>\n"
     },
     "metadata": {}
    },
    {
     "output_type": "display_data",
     "data": {
      "text/plain": "<rich.jupyter.JupyterRenderable at 0x7f497c8e09d0>",
      "text/html": "<pre style=\"white-space:pre;overflow-x:auto;line-height:normal;font-family:Menlo,'DejaVu Sans Mono',consolas,'Courier New',monospace\"><span style=\"color: #005f00\">---- run1 ** changed = False ---------------- INFO [0:00:06.673273]</span>\n</pre>\n"
     },
     "metadata": {}
    },
    {
     "output_type": "display_data",
     "data": {
      "text/plain": "<rich.jupyter.JupyterRenderable at 0x7f497c8e09d0>",
      "text/html": "<pre style=\"white-space:pre;overflow-x:auto;line-height:normal;font-family:Menlo,'DejaVu Sans Mono',consolas,'Courier New',monospace\"><span style=\"font-weight: bold\">{</span>\n    <span style=\"color: #008000\">'interfaces'</span>: <span style=\"font-weight: bold\">{</span>\n        <span style=\"color: #008000\">'eth0'</span>: <span style=\"font-weight: bold\">{</span>\n            <span style=\"color: #008000\">'is_up'</span>: <span style=\"color: #00ff00; font-style: italic\">True</span>,\n            <span style=\"color: #008000\">'is_enabled'</span>: <span style=\"color: #00ff00; font-style: italic\">True</span>,\n            <span style=\"color: #008000\">'description'</span>: <span style=\"color: #008000\">''</span>,\n            <span style=\"color: #008000\">'last_flapped'</span>: <span style=\"color: #000080; font-weight: bold\">-1.0</span>,\n            <span style=\"color: #008000\">'mtu'</span>: <span style=\"color: #000080; font-weight: bold\">-1</span>,\n            <span style=\"color: #008000\">'speed'</span>: <span style=\"color: #000080; font-weight: bold\">0</span>,\n            <span style=\"color: #008000\">'mac_address'</span>: <span style=\"color: #008000\">'08:00:27:e0:28:63'</span>\n        <span style=\"font-weight: bold\">}</span>,\n        <span style=\"color: #008000\">'lo'</span>: <span style=\"font-weight: bold\">{</span>\n            <span style=\"color: #008000\">'is_up'</span>: <span style=\"color: #00ff00; font-style: italic\">True</span>,\n            <span style=\"color: #008000\">'is_enabled'</span>: <span style=\"color: #00ff00; font-style: italic\">True</span>,\n            <span style=\"color: #008000\">'description'</span>: <span style=\"color: #008000\">''</span>,\n            <span style=\"color: #008000\">'last_flapped'</span>: <span style=\"color: #000080; font-weight: bold\">-1.0</span>,\n            <span style=\"color: #008000\">'mtu'</span>: <span style=\"color: #000080; font-weight: bold\">-1</span>,\n            <span style=\"color: #008000\">'speed'</span>: <span style=\"color: #000080; font-weight: bold\">0</span>,\n            <span style=\"color: #008000\">'mac_address'</span>: <span style=\"color: #008000\">'00:00:00:00:00:00'</span>\n        <span style=\"font-weight: bold\">}</span>\n    <span style=\"font-weight: bold\">}</span>\n<span style=\"font-weight: bold\">}</span>\n</pre>\n"
     },
     "metadata": {}
    },
    {
     "output_type": "display_data",
     "data": {
      "text/plain": "Output()",
      "application/vnd.jupyter.widget-view+json": {
       "version_major": 2,
       "version_minor": 0,
       "model_id": "cde4942ad3fd49b2a8f93153c1d6a8a9"
      }
     },
     "metadata": {}
    },
    {
     "output_type": "display_data",
     "data": {
      "text/plain": "<rich.jupyter.JupyterRenderable at 0x7f497c83e790>",
      "text/html": "<pre style=\"white-space:pre;overflow-x:auto;line-height:normal;font-family:Menlo,'DejaVu Sans Mono',consolas,'Courier New',monospace\"><span style=\"color: #000080\">* vyos ** changed = </span><span style=\"color: #ff0000; font-style: italic\">False</span><span style=\"color: #000080\"> ************************ </span><span style=\"color: #000080; font-weight: bold\">[</span><span style=\"color: #000080; font-weight: bold\">0</span><span style=\"color: #000080\">:</span><span style=\"color: #000080; font-weight: bold\">00</span><span style=\"color: #000080\">:</span><span style=\"color: #000080; font-weight: bold\">02.030756</span><span style=\"color: #000080; font-weight: bold\">]</span>\n</pre>\n"
     },
     "metadata": {}
    },
    {
     "output_type": "display_data",
     "data": {
      "text/plain": "<rich.jupyter.JupyterRenderable at 0x7f497c8e0400>",
      "text/html": "<pre style=\"white-space:pre;overflow-x:auto;line-height:normal;font-family:Menlo,'DejaVu Sans Mono',consolas,'Courier New',monospace\"><span style=\"color: #005f00\">---- run2 ** changed = False ---------------- INFO [0:00:02.013283]</span>\n</pre>\n"
     },
     "metadata": {}
    },
    {
     "output_type": "display_data",
     "data": {
      "text/plain": "<rich.jupyter.JupyterRenderable at 0x7f497c83e790>",
      "text/html": "<pre style=\"white-space:pre;overflow-x:auto;line-height:normal;font-family:Menlo,'DejaVu Sans Mono',consolas,'Courier New',monospace\"><span style=\"font-weight: bold\">{</span>\n    <span style=\"color: #008000\">'interfaces'</span>: <span style=\"font-weight: bold\">{</span>\n        <span style=\"color: #008000\">'eth0'</span>: <span style=\"font-weight: bold\">{</span>\n            <span style=\"color: #008000\">'is_up'</span>: <span style=\"color: #00ff00; font-style: italic\">True</span>,\n            <span style=\"color: #008000\">'is_enabled'</span>: <span style=\"color: #00ff00; font-style: italic\">True</span>,\n            <span style=\"color: #008000\">'description'</span>: <span style=\"color: #008000\">''</span>,\n            <span style=\"color: #008000\">'last_flapped'</span>: <span style=\"color: #000080; font-weight: bold\">-1.0</span>,\n            <span style=\"color: #008000\">'mtu'</span>: <span style=\"color: #000080; font-weight: bold\">-1</span>,\n            <span style=\"color: #008000\">'speed'</span>: <span style=\"color: #000080; font-weight: bold\">0</span>,\n            <span style=\"color: #008000\">'mac_address'</span>: <span style=\"color: #008000\">'08:00:27:e0:28:63'</span>\n        <span style=\"font-weight: bold\">}</span>,\n        <span style=\"color: #008000\">'lo'</span>: <span style=\"font-weight: bold\">{</span>\n            <span style=\"color: #008000\">'is_up'</span>: <span style=\"color: #00ff00; font-style: italic\">True</span>,\n            <span style=\"color: #008000\">'is_enabled'</span>: <span style=\"color: #00ff00; font-style: italic\">True</span>,\n            <span style=\"color: #008000\">'description'</span>: <span style=\"color: #008000\">''</span>,\n            <span style=\"color: #008000\">'last_flapped'</span>: <span style=\"color: #000080; font-weight: bold\">-1.0</span>,\n            <span style=\"color: #008000\">'mtu'</span>: <span style=\"color: #000080; font-weight: bold\">-1</span>,\n            <span style=\"color: #008000\">'speed'</span>: <span style=\"color: #000080; font-weight: bold\">0</span>,\n            <span style=\"color: #008000\">'mac_address'</span>: <span style=\"color: #008000\">'00:00:00:00:00:00'</span>\n        <span style=\"font-weight: bold\">}</span>\n    <span style=\"font-weight: bold\">}</span>\n<span style=\"font-weight: bold\">}</span>\n</pre>\n"
     },
     "metadata": {}
    },
    {
     "output_type": "display_data",
     "data": {
      "text/plain": "Output()",
      "application/vnd.jupyter.widget-view+json": {
       "version_major": 2,
       "version_minor": 0,
       "model_id": "91a28ce1b3684f388d929c43ea616abc"
      }
     },
     "metadata": {}
    },
    {
     "output_type": "display_data",
     "data": {
      "text/plain": "<rich.jupyter.JupyterRenderable at 0x7f497c83e6d0>",
      "text/html": "<pre style=\"white-space:pre;overflow-x:auto;line-height:normal;font-family:Menlo,'DejaVu Sans Mono',consolas,'Courier New',monospace\"><span style=\"color: #000080\">* vyos ** changed = </span><span style=\"color: #ff0000; font-style: italic\">False</span><span style=\"color: #000080\"> ************************ </span><span style=\"color: #000080; font-weight: bold\">[</span><span style=\"color: #000080; font-weight: bold\">0</span><span style=\"color: #000080\">:</span><span style=\"color: #000080; font-weight: bold\">00</span><span style=\"color: #000080\">:</span><span style=\"color: #000080; font-weight: bold\">02.030179</span><span style=\"color: #000080; font-weight: bold\">]</span>\n</pre>\n"
     },
     "metadata": {}
    },
    {
     "output_type": "display_data",
     "data": {
      "text/plain": "<rich.jupyter.JupyterRenderable at 0x7f497c889ee0>",
      "text/html": "<pre style=\"white-space:pre;overflow-x:auto;line-height:normal;font-family:Menlo,'DejaVu Sans Mono',consolas,'Courier New',monospace\"><span style=\"color: #005f00\">---- run3 ** changed = False ---------------- INFO [0:00:02.011652]</span>\n</pre>\n"
     },
     "metadata": {}
    },
    {
     "output_type": "display_data",
     "data": {
      "text/plain": "<rich.jupyter.JupyterRenderable at 0x7f497c889f40>",
      "text/html": "<pre style=\"white-space:pre;overflow-x:auto;line-height:normal;font-family:Menlo,'DejaVu Sans Mono',consolas,'Courier New',monospace\"><span style=\"font-weight: bold\">{</span>\n    <span style=\"color: #008000\">'interfaces'</span>: <span style=\"font-weight: bold\">{</span>\n        <span style=\"color: #008000\">'eth0'</span>: <span style=\"font-weight: bold\">{</span>\n            <span style=\"color: #008000\">'is_up'</span>: <span style=\"color: #00ff00; font-style: italic\">True</span>,\n            <span style=\"color: #008000\">'is_enabled'</span>: <span style=\"color: #00ff00; font-style: italic\">True</span>,\n            <span style=\"color: #008000\">'description'</span>: <span style=\"color: #008000\">''</span>,\n            <span style=\"color: #008000\">'last_flapped'</span>: <span style=\"color: #000080; font-weight: bold\">-1.0</span>,\n            <span style=\"color: #008000\">'mtu'</span>: <span style=\"color: #000080; font-weight: bold\">-1</span>,\n            <span style=\"color: #008000\">'speed'</span>: <span style=\"color: #000080; font-weight: bold\">0</span>,\n            <span style=\"color: #008000\">'mac_address'</span>: <span style=\"color: #008000\">'08:00:27:e0:28:63'</span>\n        <span style=\"font-weight: bold\">}</span>,\n        <span style=\"color: #008000\">'lo'</span>: <span style=\"font-weight: bold\">{</span>\n            <span style=\"color: #008000\">'is_up'</span>: <span style=\"color: #00ff00; font-style: italic\">True</span>,\n            <span style=\"color: #008000\">'is_enabled'</span>: <span style=\"color: #00ff00; font-style: italic\">True</span>,\n            <span style=\"color: #008000\">'description'</span>: <span style=\"color: #008000\">''</span>,\n            <span style=\"color: #008000\">'last_flapped'</span>: <span style=\"color: #000080; font-weight: bold\">-1.0</span>,\n            <span style=\"color: #008000\">'mtu'</span>: <span style=\"color: #000080; font-weight: bold\">-1</span>,\n            <span style=\"color: #008000\">'speed'</span>: <span style=\"color: #000080; font-weight: bold\">0</span>,\n            <span style=\"color: #008000\">'mac_address'</span>: <span style=\"color: #008000\">'00:00:00:00:00:00'</span>\n        <span style=\"font-weight: bold\">}</span>\n    <span style=\"font-weight: bold\">}</span>\n<span style=\"font-weight: bold\">}</span>\n</pre>\n"
     },
     "metadata": {}
    },
    {
     "output_type": "execute_result",
     "data": {
      "text/plain": "AggregatedResult (run3): {'vyos': MultiResult: [Result: \"run3\"]}"
     },
     "metadata": {},
     "execution_count": 4
    }
   ],
   "source": [
    "nr.run(task=napalm_get, getters=['interfaces'], name='run1')\n",
    "nr.run(task=napalm_get, getters=['interfaces'], name='run2')\n",
    "nr.run(task=napalm_get, getters=['interfaces'], name='run3')"
   ]
  },
  {
   "cell_type": "code",
   "execution_count": 5,
   "metadata": {},
   "outputs": [
    {
     "output_type": "display_data",
     "data": {
      "text/plain": "<rich.jupyter.JupyterRenderable at 0x7f497c93bdf0>",
      "text/html": "<pre style=\"white-space:pre;overflow-x:auto;line-height:normal;font-family:Menlo,'DejaVu Sans Mono',consolas,'Courier New',monospace\">╭───────────────────────────────────────┬────────┬────────┬───────╮\n│<span style=\"font-weight: bold\"> Task                                  </span>│<span style=\"font-weight: bold\"> Ok     </span>│<span style=\"font-weight: bold\"> Chang… </span>│<span style=\"font-weight: bold\"> Fail… </span>│\n├───────────────────────────────────────┼────────┼────────┼───────┤\n│ run1                                  │ <span style=\"color: #005f00\">1     </span> │ <span style=\"color: #ffaf00\">-     </span> │ <span style=\"color: #800000\">-    </span> │\n│ run2                                  │ <span style=\"color: #005f00\">1     </span> │ <span style=\"color: #ffaf00\">-     </span> │ <span style=\"color: #800000\">-    </span> │\n│ run3                                  │ <span style=\"color: #005f00\">1     </span> │ <span style=\"color: #ffaf00\">-     </span> │ <span style=\"color: #800000\">-    </span> │\n├───────────────────────────────────────┼────────┼────────┼───────┤\n│<span style=\"font-weight: bold\"> Total                                 </span>│<span style=\"font-weight: bold\"> </span><span style=\"color: #005f00; font-weight: bold\">3     </span><span style=\"font-weight: bold\"> </span>│<span style=\"font-weight: bold\"> </span><span style=\"color: #ffaf00; font-weight: bold\">-     </span><span style=\"font-weight: bold\"> </span>│<span style=\"font-weight: bold\"> </span><span style=\"color: #800000; font-weight: bold\">-    </span><span style=\"font-weight: bold\"> </span>│\n╰───────────────────────────────────────┴────────┴────────┴───────╯\n</pre>\n"
     },
     "metadata": {}
    }
   ],
   "source": [
    "rr.write_summary()"
   ]
  },
  {
   "cell_type": "code",
   "execution_count": 9,
   "metadata": {},
   "outputs": [
    {
     "output_type": "display_data",
     "data": {
      "text/plain": "Output()",
      "application/vnd.jupyter.widget-view+json": {
       "version_major": 2,
       "version_minor": 0,
       "model_id": "f4808f718dad4bd3b03b8ad9dcc9b2d7"
      }
     },
     "metadata": {}
    }
   ],
   "source": [
    "import time\n",
    "from rich.progress import Progress\n",
    "\n",
    "with Progress() as progress:\n",
    "\n",
    "    task1 = progress.add_task(\"[red]Downloading...\", total=1000)\n",
    "    task2 = progress.add_task(\"[green]Processing...\", total=1000)\n",
    "    task3 = progress.add_task(\"[cyan]Cooking...\", total=1000)\n",
    "\n",
    "    while not progress.finished:\n",
    "        progress.update(task1, advance=0.5)\n",
    "        progress.update(task2, advance=0.3)\n",
    "        progress.update(task3, advance=0.9)\n",
    "        time.sleep(0.02)"
   ]
  },
  {
   "cell_type": "code",
   "execution_count": null,
   "metadata": {},
   "outputs": [],
   "source": []
  }
 ],
 "metadata": {
  "kernelspec": {
   "display_name": "Python 3.8.2 64-bit ('.venv': venv)",
   "language": "python",
   "name": "python38264bitvenvvenvf64dd4b380bd459fb245d8c53eb08903"
  },
  "language_info": {
   "codemirror_mode": {
    "name": "ipython",
    "version": 3
   },
   "file_extension": ".py",
   "mimetype": "text/x-python",
   "name": "python",
   "nbconvert_exporter": "python",
   "pygments_lexer": "ipython3",
   "version": "3.8.2-final"
  }
 },
 "nbformat": 4,
 "nbformat_minor": 4
}